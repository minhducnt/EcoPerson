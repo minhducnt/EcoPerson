{
 "cells": [
  {
   "cell_type": "code",
   "execution_count": null,
   "metadata": {},
   "outputs": [],
   "source": [
    "%pip install numpy\n",
    "%pip install pandas\n",
    "%pip install scikit-learn\n",
    "%pip install matplotlib"
   ]
  },
  {
   "cell_type": "code",
   "execution_count": null,
   "metadata": {},
   "outputs": [],
   "source": [
    "import numpy as np\n",
    "import pandas as pd\n",
    "from sklearn.ensemble import IsolationForest\n",
    "from sklearn.model_selection import GridSearchCV\n",
    "from sklearn.metrics import make_scorer, f1_score\n",
    "import pickle\n",
    "import matplotlib.pyplot as plt\n",
    "from sklearn.cluster import DBSCAN"
   ]
  },
  {
   "cell_type": "code",
   "execution_count": null,
   "metadata": {},
   "outputs": [],
   "source": [
    "np.random.seed(42)\n",
    "time_points = pd.date_range(start='2024-06-01', periods=1000, freq='T')\n",
    "\n",
    "def create_node_data(node_id, ph_mean, ph_std, tds_mean, tds_std, ph_trend=0, tds_trend=0):\n",
    "    return pd.DataFrame({\n",
    "        'node_id': node_id,\n",
    "        'time': time_points,\n",
    "        'ph': np.random.normal(ph_mean, ph_std, 1000) + np.linspace(0, ph_trend, 1000),\n",
    "        'tds': np.random.normal(tds_mean, tds_std, 1000) + np.linspace(0, tds_trend, 1000)\n",
    "    })\n",
    "\n",
    "nodes = []\n",
    "\n",
    "# Node 1-7: bình thường, tương ứng với trung bình của sông Sài Gòn\n",
    "for i in range(1, 8):\n",
    "    nodes.append(create_node_data(node_id=i, ph_mean=7.0, ph_std=0.1, tds_mean=200, tds_std=20))\n",
    "\n",
    "# Node 8: bị ảnh hưởng nhẹ (tăng dần ph và tds)\n",
    "nodes.append(create_node_data(node_id=8, ph_mean=7.0, ph_std=0.1, tds_mean=200, tds_std=20, ph_trend=0.5, tds_trend=25))\n",
    "\n",
    "# Node 9: bị ảnh hưởng nặng (tăng nhiều hơn ph và tds)\n",
    "nodes.append(create_node_data(node_id=9, ph_mean=7.0, ph_std=0.1, tds_mean=200, tds_std=20, ph_trend=1.0, tds_trend=50))\n",
    "\n",
    "# Node 10: bị ô nhiễm\n",
    "nodes.append(create_node_data(node_id=10, ph_mean=10.0, ph_std=0.1, tds_mean=500, tds_std=20))\n",
    "\n",
    "# Kết hợp dữ liệu của các node\n",
    "df = pd.concat(nodes, ignore_index=True)"
   ]
  },
  {
   "cell_type": "code",
   "execution_count": null,
   "metadata": {},
   "outputs": [],
   "source": [
    "csv_file_path = 'node_data.csv'\n",
    "df.to_csv(csv_file_path, index=False)"
   ]
  }
 ],
 "metadata": {
  "kernelspec": {
   "display_name": "Python 3",
   "language": "python",
   "name": "python3"
  },
  "language_info": {
   "codemirror_mode": {
    "name": "ipython",
    "version": 3
   },
   "file_extension": ".py",
   "mimetype": "text/x-python",
   "name": "python",
   "nbconvert_exporter": "python",
   "pygments_lexer": "ipython3",
   "version": "3.11.4"
  }
 },
 "nbformat": 4,
 "nbformat_minor": 2
}
